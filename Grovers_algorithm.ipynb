{
 "cells": [
  {
   "cell_type": "code",
   "execution_count": 5,
   "id": "60a4c0a0-b08b-4e88-b2fc-fc843ed2a89a",
   "metadata": {},
   "outputs": [
    {
     "name": "stdout",
     "output_type": "stream",
     "text": [
      "Quantum Circuit:\n",
      "     ┌───┐┌───┐   ┌───┐\n",
      "q_0: ┤ H ├┤ X ├─■─┤ X ├\n",
      "     ├───┤└───┘ │ └───┘\n",
      "q_1: ┤ H ├──────■──────\n",
      "     └───┘             \n",
      "\n",
      "Final Statevector:\n",
      "Statevector([ 0.5+0.j,  0.5+0.j, -0.5+0.j,  0.5+0.j],\n",
      "            dims=(2, 2))\n",
      "\n",
      "Measurement Probabilities:\n",
      "{np.str_('00'): np.float64(0.2499999999999999), np.str_('01'): np.float64(0.2499999999999999), np.str_('10'): np.float64(0.2499999999999999), np.str_('11'): np.float64(0.2499999999999999)}\n"
     ]
    }
   ],
   "source": [
    "from qiskit import QuantumCircuit\n",
    "from qiskit.quantum_info import Statevector\n",
    "\n",
    "# Step 1: Create a quantum circuit with 2 qubits and 2 classical bits\n",
    "qc = QuantumCircuit(2)\n",
    "\n",
    "# Step 2: Apply Hadamard gates to both qubits\n",
    "qc.h(0)\n",
    "qc.h(1)\n",
    "\n",
    "# Step 3: Implement the custom gate to apply a -1 phase to the |10> state\n",
    "# Apply X gate to the first qubit\n",
    "qc.x(0)\n",
    "\n",
    "# Apply Controlled-Z gate (control: qubit 1, target: qubit 0)\n",
    "qc.cz(1, 0)\n",
    "\n",
    "# Apply X gate to the first qubit again\n",
    "qc.x(0)\n",
    "\n",
    "# Step 4: Simulate the statevector to observe the results\n",
    "state = Statevector.from_instruction(qc)\n",
    "\n",
    "# Step 5: Print the quantum circuit and final statevector\n",
    "print(\"Quantum Circuit:\")\n",
    "print(qc.draw(output='text'))\n",
    "\n",
    "print(\"\\nFinal Statevector:\")\n",
    "print(state)\n",
    "\n",
    "\n",
    "# Step 6: Perform measurement manually by analyzing the statevector\n",
    "probabilities = state.probabilities_dict()\n",
    "print(\"\\nMeasurement Probabilities:\")\n",
    "print(probabilities)"
   ]
  },
  {
   "cell_type": "code",
   "execution_count": 6,
   "id": "5543eea3-369e-4f49-a501-43e11bbeac6f",
   "metadata": {},
   "outputs": [
    {
     "name": "stdout",
     "output_type": "stream",
     "text": [
      "Quantum Circuit:\n",
      "     ┌───┐┌───┐   ┌───┐┌───┐┌───┐   ┌───┐\n",
      "q_0: ┤ H ├┤ X ├─■─┤ X ├┤ H ├┤ Z ├─■─┤ H ├\n",
      "     ├───┤└───┘ │ ├───┤├───┤└───┘ │ ├───┤\n",
      "q_1: ┤ H ├──────■─┤ H ├┤ Z ├──────■─┤ H ├\n",
      "     └───┘        └───┘└───┘        └───┘\n",
      "\n",
      "Final Statevector:\n",
      "Statevector([2.36158002e-17+0.j, 1.26316153e-34+0.j, 1.00000000e+00+0.j,\n",
      "             9.52420783e-18+0.j],\n",
      "            dims=(2, 2))\n",
      "\n",
      "Measurement Probabilities:\n",
      "{np.str_('00'): np.float64(5.577060207443597e-34), np.str_('01'): np.float64(1.5955770627550177e-68), np.str_('10'): np.float64(0.9999999999999991), np.str_('11'): np.float64(9.071053470133364e-35)}\n"
     ]
    }
   ],
   "source": [
    "\n",
    "qc.h([0,1])\n",
    "qc.z([0,1])\n",
    "qc.cz(0,1)\n",
    "qc.h([0,1])\n",
    "qc.to_gate()\n",
    "\n",
    "state = Statevector.from_instruction(qc)\n",
    "\n",
    "# Step 5: Print the quantum circuit and final statevector\n",
    "print(\"Quantum Circuit:\")\n",
    "print(qc.draw(output='text'))\n",
    "\n",
    "print(\"\\nFinal Statevector:\")\n",
    "print(state)\n",
    "\n",
    "# Step 6: Perform measurement manually by analyzing the statevector\n",
    "probabilities = state.probabilities_dict()\n",
    "print(\"\\nMeasurement Probabilities:\")\n",
    "print(probabilities)#Cause of the parameters of our problem,grovers algorithm gets a right answer with 100% probability only after 1 query"
   ]
  },
  {
   "cell_type": "code",
   "execution_count": 7,
   "id": "bebac6fd-8d2b-4790-aaa0-314d069bf66e",
   "metadata": {},
   "outputs": [
    {
     "name": "stdout",
     "output_type": "stream",
     "text": [
      "Quantum Circuit:\n",
      "     ┌───┐┌───┐   ┌───┐┌───┐┌───┐   ┌───┐┌───┐   ┌───┐┌───┐┌───┐   ┌───┐\n",
      "q_0: ┤ H ├┤ X ├─■─┤ X ├┤ H ├┤ Z ├─■─┤ H ├┤ X ├─■─┤ X ├┤ H ├┤ Z ├─■─┤ H ├\n",
      "     ├───┤└───┘ │ ├───┤├───┤└───┘ │ ├───┤└───┘ │ ├───┤├───┤└───┘ │ ├───┤\n",
      "q_1: ┤ H ├──────■─┤ H ├┤ Z ├──────■─┤ H ├──────■─┤ H ├┤ Z ├──────■─┤ H ├\n",
      "     └───┘        └───┘└───┘        └───┘        └───┘└───┘        └───┘\n",
      "\n",
      "Final Statevector:\n",
      "Statevector([-0.5+0.j, -0.5+0.j,  0.5+0.j, -0.5+0.j],\n",
      "            dims=(2, 2))\n",
      "\n",
      "Measurement Probabilities:\n",
      "{np.str_('00'): np.float64(0.2499999999999996), np.str_('01'): np.float64(0.2499999999999996), np.str_('10'): np.float64(0.2499999999999996), np.str_('11'): np.float64(0.2499999999999996)}\n"
     ]
    }
   ],
   "source": [
    "qc.x(0)\n",
    "\n",
    "# Apply Controlled-Z gate (control: qubit 1, target: qubit 0)\n",
    "qc.cz(1, 0)\n",
    "\n",
    "# Apply X gate to the first qubit again\n",
    "qc.x(0)\n",
    "\n",
    "\n",
    "\n",
    "qc.h([0,1])\n",
    "qc.z([0,1])\n",
    "qc.cz(0,1)\n",
    "qc.h([0,1])\n",
    "qc.to_gate()\n",
    "\n",
    "\n",
    "state = Statevector.from_instruction(qc)\n",
    "\n",
    "# Step 5: Print the quantum circuit and final statevector\n",
    "print(\"Quantum Circuit:\")\n",
    "print(qc.draw(output='text'))\n",
    "\n",
    "print(\"\\nFinal Statevector:\")\n",
    "print(state)\n",
    "\n",
    "# Step 6: Perform measurement manually by analyzing the statevector\n",
    "probabilities = state.probabilities_dict()\n",
    "print(\"\\nMeasurement Probabilities:\")\n",
    "print(probabilities) #and here since we reapply the gate the turn which is pi/2 degrees returns us in the uniform superposition state"
   ]
  }
 ],
 "metadata": {
  "kernelspec": {
   "display_name": "Python 3 (ipykernel)",
   "language": "python",
   "name": "python3"
  },
  "language_info": {
   "codemirror_mode": {
    "name": "ipython",
    "version": 3
   },
   "file_extension": ".py",
   "mimetype": "text/x-python",
   "name": "python",
   "nbconvert_exporter": "python",
   "pygments_lexer": "ipython3",
   "version": "3.11.3"
  }
 },
 "nbformat": 4,
 "nbformat_minor": 5
}
